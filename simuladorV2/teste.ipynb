{
 "cells": [
  {
   "cell_type": "code",
   "execution_count": 1,
   "metadata": {},
   "outputs": [],
   "source": [
    "from Simulador import Simulador\n",
    "from Registrador import Registrador\n",
    "from simpy import Environment\n",
    "import networkx as nx\n",
    "from simuladorV2.Cenario.GeradorDeCenarios import GeradorDeCenarios, Cenario\n",
    "from Variaveis import *\n",
    "from Roteamento.Roteamento import Roteamento\n",
    "from Roteamento.RoteamentoBestFit import RoteamentoBestFit\n",
    "env = Environment()\n",
    "topology = nx.read_weighted_edgelist( \"./topology/usa\", nodetype=int)\n"
   ]
  },
  {
   "cell_type": "code",
   "execution_count": 2,
   "metadata": {},
   "outputs": [],
   "source": [
    "lista_de_roteamento = [ Roteamento, RoteamentoBestFit]\n",
    "cenario1, cenario2 = GeradorDeCenarios.gerar_cenarios(topology, retorna_lista_de_requisicoes=True, numero_de_requisicoes=NUMERO_DE_REQUISICOES, \n",
    "                                                           lista_de_roteamentos_de_desastre = lista_de_roteamento)"
   ]
  },
  {
   "cell_type": "code",
   "execution_count": 3,
   "metadata": {},
   "outputs": [
    {
     "data": {
      "text/plain": [
       "Roteamento.Roteamento.Roteamento"
      ]
     },
     "execution_count": 3,
     "metadata": {},
     "output_type": "execute_result"
    }
   ],
   "source": [
    "cenario1.lista_de_ISPs[0].roteamento_desastre"
   ]
  },
  {
   "cell_type": "code",
   "execution_count": 4,
   "metadata": {},
   "outputs": [
    {
     "data": {
      "text/plain": [
       "Roteamento.RoteamentoBestFit.RoteamentoBestFit"
      ]
     },
     "execution_count": 4,
     "metadata": {},
     "output_type": "execute_result"
    }
   ],
   "source": [
    "cenario2.lista_de_ISPs[0].roteamento_desastre"
   ]
  },
  {
   "cell_type": "code",
   "execution_count": 5,
   "metadata": {},
   "outputs": [
    {
     "name": "stdout",
     "output_type": "stream",
     "text": [
      "10000 requests processed, time : 134.04075383646702\n",
      "20000 requests processed, time : 265.0722513369508\n",
      "30000 requests processed, time : 395.9278491010699\n",
      "ISP 2 iniciando migração de 9 para 1 no tempo 444\n",
      "ISP 0 iniciando migração de 9 para 3 no tempo 469\n",
      "Status ISP 2, 10.018293246807614% da migração concluída no tempo 477.33316430676086\n",
      "Status ISP 0, 10.108894587057248% da migração concluída no tempo 502.1682353446341\n",
      "Status ISP 2, 20.07066232098532% da migração concluída no tempo 513.6477035690374\n",
      "40000 requests processed, time : 529.5271274085574\n",
      "Status ISP 0, 20.11137975740863% da migração concluída no tempo 534.1870495045777\n",
      "Status ISP 2, 30.088955567792937% da migração concluída no tempo 550.4169710178119\n",
      "Status ISP 0, 30.255744150034502% da migração concluída no tempo 560.3837290699481\n",
      "ISP 3 iniciando migração de 9 para 3 no tempo 561\n",
      "Status ISP 2, 40.03909715986036% da migração concluída no tempo 581.3545549501011\n",
      "Status ISP 0, 40.00994068140553% da migração concluída no tempo 587.1485357165067\n",
      "Status ISP 3, 10.146864682262073% da migração concluída no tempo 590.5036297359729\n",
      "Status ISP 2, 50.05739040666798% da migração concluída no tempo 613.0937069019496\n",
      "ISP 4 iniciando migração de 9 para 4 no tempo 618\n",
      "Status ISP 0, 50.012425851756916% da migração concluída no tempo 623.9848594747\n",
      "Status ISP 3, 20.000090193654824% da migração concluída no tempo 634.8829651566209\n",
      "Status ISP 4, 10.002583574162973% da migração concluída no tempo 644.2245632702886\n",
      "Status ISP 2, 60.007531998735395% da migração concluída no tempo 645.329390498718\n",
      "ISP 1 iniciando migração de 9 para 4 no tempo 657\n",
      "Status ISP 0, 60.05038082767692% da migração concluída no tempo 659.536784397714\n",
      "50000 requests processed, time : 661.9191549454272\n",
      "Status ISP 4, 20.043638623611187% da migração concluída no tempo 665.403877675376\n",
      "Status ISP 3, 30.081701726834826% da migração concluída no tempo 666.1075895949231\n",
      "Status ISP 2, 70.16212855502339% da migração concluída no tempo 684.2877542824909\n",
      "Status ISP 4, 30.007750722488918% da migração concluída no tempo 690.0815170058725\n",
      "Status ISP 0, 70.12380560916554% da migração concluída no tempo 691.8215788713161\n",
      "Status ISP 1, 10.021962327997235% da migração concluída no tempo 694.666585186494\n",
      "Status ISP 3, 40.03280696185069% da migração concluída no tempo 695.0156401011116\n",
      "Status ISP 4, 40.2026916730781% da migração concluída no tempo 715.193138064311\n",
      "Status ISP 2, 80.14634597446091% da migração concluída no tempo 717.3774954423877\n",
      "Status ISP 3, 50.04916534594862% da migração concluída no tempo 722.458190118174\n",
      "Status ISP 0, 80.01988136281106% da migração concluída no tempo 726.2223247007706\n",
      "Status ISP 1, 20.0088828296728% da migração concluída no tempo 736.6275825223295\n",
      "Status ISP 4, 50.089860821385344% da migração concluída no tempo 738.0648047186797\n",
      "Status ISP 3, 60.098150304587584% da migração concluída no tempo 755.8189528667585\n",
      "Status ISP 2, 90.13056339389843% da migração concluída no tempo 756.4171638095726\n",
      "Status ISP 4, 60.09244439554832% da migração concluída no tempo 762.8803967529734\n",
      "Status ISP 0, 90.02236653316244% da migração concluída no tempo 766.0490089610215\n",
      "Status ISP 1, 30.065886983991703% da migração concluída no tempo 768.4857832197891\n",
      "Status ISP 2, 100.08070498596587% da migração concluída no tempo 786.706351985672\n",
      "ISP 2 finalizou migração no tempo 786.706351985672, 100.08070498596587% da migração concluída\n",
      "Status ISP 3, 70.0166289650624% da migração concluída no tempo 786.9712724721097\n",
      "Status ISP 4, 70.05655649442605% da migração concluída no tempo 789.501149470233\n",
      "60000 requests processed, time : 796.8268173408023\n",
      "Status ISP 0, 100.09579131465107% da migração concluída no tempo 802.6474632931789\n",
      "ISP 0 finalizou migração no tempo 802.6474632931789, 100.09579131465107% da migração concluída\n",
      "Status ISP 1, 40.052807485667266% da migração concluída no tempo 803.8741048485787\n",
      "Status ISP 3, 80.03298734916034% da migração concluída no tempo 816.3026252343649\n",
      "Status ISP 4, 80.17455449444475% da migração concluída no tempo 821.417481468997\n",
      "Status ISP 1, 50.03972798734284% da migração concluída no tempo 834.2541445491719\n",
      "Status ISP 4, 90.17713806860772% da migração concluída no tempo 849.4482993873636\n",
      "Status ISP 3, 90.14722545688137% da migração concluída no tempo 850.1527079909345\n",
      "Status ISP 1, 60.061690315340066% da migração concluída no tempo 875.710541443501\n",
      "Status ISP 4, 100.25666459334117% da migração concluída no tempo 877.3843362939974\n",
      "ISP 4 finalizou migração no tempo 877.3843362939974, 100.25666459334117% da migração concluída\n",
      "Status ISP 3, 100.0657041173562% da migração concluída no tempo 878.6015174484485\n",
      "ISP 3 finalizou migração no tempo 878.6015174484485, 100.0657041173562% da migração concluída\n",
      "Status ISP 1, 70.04861081701563% da migração concluída no tempo 905.9996481696545\n",
      "70000 requests processed, time : 931.8447205506501\n",
      "Status ISP 1, 80.17569862397788% da migração concluída no tempo 943.4601292459812\n",
      "Status ISP 1, 90.16261912565344% da migração concluída no tempo 975.1712102899367\n",
      "Status ISP 1, 100.11449780100735% da migração concluída no tempo 1009.7288418306523\n",
      "ISP 1 finalizou migração no tempo 1009.7288418306523, 100.11449780100735% da migração concluída\n",
      "80000 requests processed, time : 1064.7826036634\n",
      "Link 9 -> 10 falhou no tempo 1166\n",
      "90000 requests processed, time : 1198.1624065631916\n",
      "Link 9 -> 11 falhou no tempo 1207\n",
      "Link 9 -> 6 falhou no tempo 1216\n",
      "100000 requests processed, time : 1333.3883766443143\n",
      "Node 9 falhou no tempo 1380\n",
      "Link 9 -> 12 falhou no tempo 1422\n",
      "110000 requests processed, time : 1466.6582424463984\n",
      "120000 requests processed, time : 1599.2674959724802\n",
      "Desastre finalizado no tempo 1711\n",
      "130000 requests processed, time : 1734.6106467309035\n",
      "140000 requests processed, time : 1869.6823285220617\n",
      "150000 requests processed, time : 2003.5407727209322\n"
     ]
    }
   ],
   "source": [
    "simulador :Simulador  = Simulador(env=env, topology=topology, status_logger=True, cenario=cenario1)\n",
    "simulador.run()"
   ]
  },
  {
   "cell_type": "code",
   "execution_count": 6,
   "metadata": {},
   "outputs": [
    {
     "name": "stdout",
     "output_type": "stream",
     "text": [
      "Numero de requisicoes por classe:  {1: 22934, 2: 38210, 3: 92021}\n",
      "Numero de requisicoes bloqueadas por classe:  {1: 4094, 2: 7030, 3: 16557}\n",
      "Numero de requisicoes por banda:  {100: 21913, 150: 21949, 200: 21832, 250: 21879, 300: 21855, 350: 21935, 400: 21802}\n",
      "Numero de requisicoes bloqueadas por banda:  {100: 573, 150: 1235, 200: 2303, 250: 3699, 300: 5284, 350: 6662, 400: 7925}\n",
      "Numero de requisicoes reroteadas por classe:  {1: 5, 2: 8, 3: 31}\n",
      "Numero de requisicoes reroteadas bloqueadas por classe:  {1: 1, 2: 1, 3: 3}\n",
      "Numero de requisicoes reroteadas por banda:  {100: 13, 150: 6, 200: 4, 250: 5, 300: 5, 350: 6, 400: 5}\n",
      "Numero de requisicoes reroteadas bloqueadas por banda:  {100: 1, 150: 1, 200: 0, 250: 0, 300: 1, 350: 1, 400: 1}\n",
      "Numero de requisicoes:  125484\n",
      "Numero de requisicoes bloqueadas:  27681\n",
      "Numero de requisicoes afetadas por desastre:  44\n",
      "Numero de requisicoes reroteadas aceitas:  39\n",
      "Numero de requisicoes reroteadas bloqueadas:  5\n",
      "Momentos da migração concluída:  {2: (786.706351985672, np.float64(1.0008070498596586)), 0: (802.6474632931789, np.float64(1.0009579131465107)), 4: (877.3843362939974, np.float64(1.0025666459334117)), 3: (878.6015174484485, np.float64(1.000657041173562)), 1: (1009.7288418306523, np.float64(1.0011449780100734))}\n"
     ]
    }
   ],
   "source": [
    "Registrador.printa_parametros()"
   ]
  },
  {
   "cell_type": "code",
   "execution_count": 7,
   "metadata": {},
   "outputs": [],
   "source": [
    "dataframe_cenario1 = simulador.salvar_dataframe(\"cenario1\")"
   ]
  },
  {
   "cell_type": "code",
   "execution_count": 8,
   "metadata": {},
   "outputs": [],
   "source": [
    "Registrador.reseta_registrador()"
   ]
  },
  {
   "cell_type": "code",
   "execution_count": 9,
   "metadata": {},
   "outputs": [],
   "source": [
    "env = Environment()\n",
    "topology = nx.read_weighted_edgelist( \"./topology/usa\", nodetype=int)\n",
    "simulador :Simulador  = Simulador(env=env, topology=topology, status_logger=True, cenario=cenario2)"
   ]
  },
  {
   "cell_type": "code",
   "execution_count": 10,
   "metadata": {},
   "outputs": [
    {
     "name": "stdout",
     "output_type": "stream",
     "text": [
      "10000 requests processed, time : 133.96245700224577\n",
      "20000 requests processed, time : 269.47517276834924\n",
      "30000 requests processed, time : 401.9507670851995\n",
      "ISP 2 iniciando migração de 9 para 1 no tempo 444\n",
      "ISP 0 iniciando migração de 9 para 3 no tempo 469\n",
      "Status ISP 2, 10.018293246807614% da migração concluída no tempo 490.79367917461445\n",
      "Status ISP 0, 10.179834198194493% da migração concluída no tempo 495.7144872457411\n",
      "Status ISP 2, 20.07066232098532% da migração concluída no tempo 521.8700065828763\n",
      "Status ISP 0, 20.040440146271386% da migração concluída no tempo 531.4574961427111\n",
      "40000 requests processed, time : 535.9625677914988\n",
      "ISP 3 iniciando migração de 9 para 3 no tempo 561\n",
      "Status ISP 0, 30.113864927760016% da migração concluída no tempo 561.064031477978\n",
      "Status ISP 2, 30.020803913052745% da migração concluída no tempo 562.7915601746301\n",
      "Status ISP 0, 40.00994068140553% da migração concluída no tempo 592.4561377544744\n",
      "Status ISP 3, 10.114238107721036% da migração concluída no tempo 595.9128644663934\n",
      "Status ISP 2, 40.14132464197064% da migração concluída no tempo 596.9897819118955\n",
      "ISP 4 iniciando migração de 9 para 4 no tempo 618\n",
      "Status ISP 0, 50.08336546289416% da migração concluída no tempo 626.3597025122358\n",
      "Status ISP 3, 20.03271676819586% da migração concluída no tempo 628.2963405344547\n",
      "Status ISP 2, 50.125542061408154% da migração concluída no tempo 638.5814329451667\n",
      "Status ISP 4, 10.233412425874427% da migração concluída no tempo 646.6988904758663\n",
      "ISP 1 iniciando migração de 9 para 4 no tempo 657\n",
      "Status ISP 3, 30.17958145045793% da migração concluída no tempo 659.1926696706586\n",
      "Status ISP 0, 60.05038082767692% da migração concluída no tempo 666.3846407972218\n",
      "50000 requests processed, time : 667.681172547084\n",
      "Status ISP 2, 60.04160782610549% da migração concluída no tempo 670.5500604013765\n",
      "Status ISP 4, 20.043638623611187% da migração concluída no tempo 675.6559673593131\n",
      "Status ISP 1, 10.092045980640572% da migração concluída no tempo 697.5237697380376\n",
      "Status ISP 0, 70.15927541473417% da migração concluída no tempo 699.037587251759\n",
      "Status ISP 3, 40.03280696185069% da migração concluída no tempo 702.6158001502944\n",
      "Status ISP 4, 30.04622219777416% da migração concluída no tempo 708.2854658530141\n",
      "Status ISP 2, 70.02582524554302% da migração concluída no tempo 708.4855399522481\n",
      "Status ISP 3, 50.11441849503069% da migração concluída no tempo 729.2619166339829\n",
      "Status ISP 0, 80.09082097394831% da migração concluída no tempo 729.6419466200265\n",
      "Status ISP 1, 20.0088828296728% da migração concluída no tempo 730.0261775247269\n",
      "Status ISP 4, 40.16422019779286% da migração concluída no tempo 738.3204785985253\n",
      "Status ISP 3, 60.000270580964475% da migração concluída no tempo 756.4567223112786\n",
      "Status ISP 2, 80.2144976292011% da migração concluída no tempo 756.4805480507047\n",
      "Status ISP 1, 30.065886983991703% da migração concluída no tempo 763.7750846958029\n",
      "Status ISP 4, 50.01291787081487% da migração concluída no tempo 766.408414492462\n",
      "Status ISP 0, 90.19971556100556% da migração concluída no tempo 770.9033853061467\n",
      "Status ISP 2, 90.09648756652834% da migração concluída no tempo 790.6453530153793\n",
      "Status ISP 4, 60.130915870833554% da migração concluída no tempo 794.2125116952499\n",
      "Status ISP 3, 70.1145086886855% da migração concluída no tempo 798.3873394104152\n",
      "Status ISP 1, 40.12289113831061% da migração concluída no tempo 800.3410491934541\n",
      "60000 requests processed, time : 802.3767748490443\n",
      "Status ISP 0, 100.16673092578831% da migração concluída no tempo 802.6486995141532\n",
      "ISP 0 finalizou migração no tempo 802.6486995141532, 100.16673092578831% da migração concluída\n",
      "Status ISP 4, 70.05655649442605% da migração concluída no tempo 816.7028014560842\n",
      "Status ISP 2, 100.04662915859576% da migração concluída no tempo 824.4949747277306\n",
      "ISP 2 finalizou migração no tempo 824.4949747277306, 100.04662915859576% da migração concluída\n",
      "Status ISP 3, 80.16349364732449% da migração concluída no tempo 825.4223695971984\n",
      "Status ISP 1, 50.10981163998618% da migração concluída no tempo 838.7742468694585\n",
      "Status ISP 3, 90.08197230779929% da migração concluída no tempo 849.974075153495\n",
      "Status ISP 4, 80.09761154387427% da migração concluída no tempo 851.9944669500381\n",
      "Status ISP 3, 100.0657041173562% da migração concluída no tempo 880.7367499610818\n",
      "ISP 3 finalizou migração no tempo 880.7367499610818, 100.0657041173562% da migração concluída\n",
      "Status ISP 1, 60.20185762062674% da migração concluída no tempo 882.5790794537082\n",
      "Status ISP 4, 90.061723642752% da migração concluída no tempo 884.2923761762435\n",
      "Status ISP 4, 100.02583574162973% da migração concluída no tempo 909.2046607648335\n",
      "ISP 4 finalizou migração no tempo 909.2046607648335, 100.02583574162973% da migração concluída\n",
      "Status ISP 1, 70.15373629598064% da migração concluída no tempo 916.1531733875469\n",
      "70000 requests processed, time : 936.5967475905263\n",
      "Status ISP 1, 80.10561497133453% da migração concluída no tempo 949.2170688417987\n",
      "Status ISP 1, 90.16261912565344% da migração concluída no tempo 978.8064088711925\n",
      "Status ISP 1, 100.21962327997235% da migração concluída no tempo 1014.5122220284229\n",
      "ISP 1 finalizou migração no tempo 1014.5122220284229, 100.21962327997235% da migração concluída\n",
      "80000 requests processed, time : 1071.1870510933186\n",
      "Link 9 -> 10 falhou no tempo 1166\n",
      "90000 requests processed, time : 1202.8897037700538\n",
      "Link 9 -> 11 falhou no tempo 1207\n",
      "Link 9 -> 6 falhou no tempo 1216\n",
      "100000 requests processed, time : 1338.0828335788929\n",
      "Node 9 falhou no tempo 1380\n",
      "Link 9 -> 12 falhou no tempo 1422\n",
      "110000 requests processed, time : 1471.027588676312\n",
      "120000 requests processed, time : 1604.9451734397494\n",
      "Desastre finalizado no tempo 1711\n",
      "130000 requests processed, time : 1740.0389434963008\n",
      "140000 requests processed, time : 1873.265587761509\n",
      "150000 requests processed, time : 2009.2918939259646\n"
     ]
    }
   ],
   "source": [
    "simulador.run()"
   ]
  },
  {
   "cell_type": "code",
   "execution_count": 11,
   "metadata": {},
   "outputs": [
    {
     "name": "stdout",
     "output_type": "stream",
     "text": [
      "Numero de requisicoes por classe:  {1: 486, 2: 838, 3: 1884}\n",
      "Numero de requisicoes bloqueadas por classe:  {1: 4537, 2: 7659, 3: 18114}\n",
      "Numero de requisicoes por banda:  {100: 428, 150: 450, 200: 455, 250: 516, 300: 485, 350: 431, 400: 443}\n",
      "Numero de requisicoes bloqueadas por banda:  {100: 773, 150: 1447, 200: 2630, 250: 3993, 300: 5663, 350: 7197, 400: 8607}\n",
      "Numero de requisicoes reroteadas por classe:  {1: 9, 2: 11, 3: 28}\n",
      "Numero de requisicoes reroteadas bloqueadas por classe:  {1: 0, 2: 2, 3: 9}\n",
      "Numero de requisicoes reroteadas por banda:  {100: 14, 150: 11, 200: 6, 250: 8, 300: 4, 350: 5, 400: 0}\n",
      "Numero de requisicoes reroteadas bloqueadas por banda:  {100: 0, 150: 2, 200: 2, 250: 3, 300: 3, 350: 1, 400: 0}\n",
      "Numero de requisicoes:  122898\n",
      "Numero de requisicoes bloqueadas:  30310\n",
      "Numero de requisicoes afetadas por desastre:  48\n",
      "Numero de requisicoes reroteadas aceitas:  37\n",
      "Numero de requisicoes reroteadas bloqueadas:  11\n",
      "Momentos da migração concluída:  {0: (802.6486995141532, np.float64(1.0016673092578832)), 2: (824.4949747277306, np.float64(1.0004662915859577)), 3: (880.7367499610818, np.float64(1.000657041173562)), 4: (909.2046607648335, np.float64(1.0002583574162973)), 1: (1014.5122220284229, np.float64(1.0021962327997236))}\n"
     ]
    }
   ],
   "source": [
    "Registrador.printa_parametros()"
   ]
  },
  {
   "cell_type": "code",
   "execution_count": 12,
   "metadata": {},
   "outputs": [],
   "source": [
    "dataframe_cenario2 = simulador.salvar_dataframe(\"cenario2\")"
   ]
  }
 ],
 "metadata": {
  "kernelspec": {
   "display_name": ".venvsimulador",
   "language": "python",
   "name": "python3"
  },
  "language_info": {
   "codemirror_mode": {
    "name": "ipython",
    "version": 3
   },
   "file_extension": ".py",
   "mimetype": "text/x-python",
   "name": "python",
   "nbconvert_exporter": "python",
   "pygments_lexer": "ipython3",
   "version": "3.11.3"
  }
 },
 "nbformat": 4,
 "nbformat_minor": 2
}
