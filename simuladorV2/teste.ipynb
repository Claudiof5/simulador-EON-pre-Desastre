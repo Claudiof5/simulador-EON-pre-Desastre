{
 "cells": [
  {
   "cell_type": "code",
   "execution_count": 1,
   "metadata": {},
   "outputs": [],
   "source": [
    "from Simulador import Simulador\n",
    "from Contador import Contador\n",
    "from simpy import Environment\n",
    "import networkx as nx\n",
    "\n",
    "\n",
    "env = Environment()\n",
    "topology = nx.read_weighted_edgelist( \"./topology/usa\", nodetype=int)\n"
   ]
  },
  {
   "cell_type": "code",
   "execution_count": 2,
   "metadata": {},
   "outputs": [
    {
     "name": "stdout",
     "output_type": "stream",
     "text": [
      "[11 15  5  3  7]\n",
      "[23 13 15 11 10]\n"
     ]
    },
    {
     "ename": "NameError",
     "evalue": "name 'RoteamentoDesastre' is not defined",
     "output_type": "error",
     "traceback": [
      "\u001b[1;31m---------------------------------------------------------------------------\u001b[0m",
      "\u001b[1;31mNameError\u001b[0m                                 Traceback (most recent call last)",
      "Cell \u001b[1;32mIn[2], line 1\u001b[0m\n\u001b[1;32m----> 1\u001b[0m simulador :Simulador  \u001b[38;5;241m=\u001b[39m \u001b[43mSimulador\u001b[49m\u001b[43m(\u001b[49m\u001b[43menv\u001b[49m\u001b[38;5;241;43m=\u001b[39;49m\u001b[43menv\u001b[49m\u001b[43m,\u001b[49m\u001b[43m \u001b[49m\u001b[43mtopology\u001b[49m\u001b[38;5;241;43m=\u001b[39;49m\u001b[43mtopology\u001b[49m\u001b[43m,\u001b[49m\u001b[43m \u001b[49m\u001b[43mnumero_de_ISPs\u001b[49m\u001b[38;5;241;43m=\u001b[39;49m\u001b[38;5;241;43m5\u001b[39;49m\u001b[43m,\u001b[49m\u001b[43m \u001b[49m\u001b[43mrate\u001b[49m\u001b[43m \u001b[49m\u001b[38;5;241;43m=\u001b[39;49m\u001b[38;5;241;43m50\u001b[39;49m\u001b[43m,\u001b[49m\u001b[43m \u001b[49m\u001b[43mnum_of_requests\u001b[49m\u001b[38;5;241;43m=\u001b[39;49m\u001b[38;5;241;43m4000000\u001b[39;49m\u001b[43m)\u001b[49m\n",
      "File \u001b[1;32md:\\Desktop\\Simulador\\simulador-EON-pre-Desastre\\simuladorV2\\Simulador.py:19\u001b[0m, in \u001b[0;36mSimulador.__init__\u001b[1;34m(self, env, topology, numero_de_ISPs, rate, num_of_requests)\u001b[0m\n\u001b[0;32m     17\u001b[0m \u001b[38;5;28;01mdef\u001b[39;00m \u001b[38;5;21m__init__\u001b[39m(\u001b[38;5;28mself\u001b[39m, env :simpy\u001b[38;5;241m.\u001b[39mEnvironment, topology: nx\u001b[38;5;241m.\u001b[39mGraph, numero_de_ISPs: \u001b[38;5;28mint\u001b[39m, rate: \u001b[38;5;28mint\u001b[39m, num_of_requests: \u001b[38;5;28mint\u001b[39m ) \u001b[38;5;241m-\u001b[39m\u001b[38;5;241m>\u001b[39m \u001b[38;5;28;01mNone\u001b[39;00m:\n\u001b[0;32m     18\u001b[0m     \u001b[38;5;28mself\u001b[39m\u001b[38;5;241m.\u001b[39menv \u001b[38;5;241m=\u001b[39m env\n\u001b[1;32m---> 19\u001b[0m     \u001b[38;5;28mself\u001b[39m\u001b[38;5;241m.\u001b[39mlista_de_ISPs :\u001b[38;5;28mlist\u001b[39m[ISP] \u001b[38;5;241m=\u001b[39m \u001b[43mGeradorDeISPs\u001b[49m\u001b[38;5;241;43m.\u001b[39;49m\u001b[43mgerar_lista_ISPs_aleatorias\u001b[49m\u001b[43m(\u001b[49m\u001b[43m \u001b[49m\u001b[43mtopology\u001b[49m\u001b[38;5;241;43m=\u001b[39;49m\u001b[43mtopology\u001b[49m\u001b[43m,\u001b[49m\u001b[43m \u001b[49m\u001b[43mnumero_de_ISPs\u001b[49m\u001b[38;5;241;43m=\u001b[39;49m\u001b[43mnumero_de_ISPs\u001b[49m\u001b[43m \u001b[49m\u001b[43m)\u001b[49m\n\u001b[0;32m     22\u001b[0m     \u001b[38;5;28mself\u001b[39m\u001b[38;5;241m.\u001b[39mdesastre      :Desastre  \u001b[38;5;241m=\u001b[39m GeradorDeDesastre\u001b[38;5;241m.\u001b[39mgenerate_disaster( topology, \u001b[38;5;28mself\u001b[39m\u001b[38;5;241m.\u001b[39mlista_de_ISPs )\n\u001b[0;32m     23\u001b[0m     \u001b[38;5;28mself\u001b[39m\u001b[38;5;241m.\u001b[39mtopology      :Topologia \u001b[38;5;241m=\u001b[39m Topologia( topology, \u001b[38;5;28mself\u001b[39m\u001b[38;5;241m.\u001b[39mlista_de_ISPs, NUMERO_DE_CAMINHOS, NUMERO_DE_SLOTS )\n",
      "File \u001b[1;32md:\\Desktop\\Simulador\\simulador-EON-pre-Desastre\\simuladorV2\\ISP\\GeradorDeISPs.py:101\u001b[0m, in \u001b[0;36mGeradorDeISPs.gerar_lista_ISPs_aleatorias\u001b[1;34m(topology, numero_de_ISPs)\u001b[0m\n\u001b[0;32m     99\u001b[0m lista_de_ISPs \u001b[38;5;241m=\u001b[39m []\n\u001b[0;32m    100\u001b[0m \u001b[38;5;28;01mfor\u001b[39;00m \u001b[38;5;28mid\u001b[39m, \u001b[38;5;28mdict\u001b[39m \u001b[38;5;129;01min\u001b[39;00m ISPS_dict\u001b[38;5;241m.\u001b[39mitems():\n\u001b[1;32m--> 101\u001b[0m     lista_de_ISPs\u001b[38;5;241m.\u001b[39mappend(\u001b[43mISP\u001b[49m\u001b[43m(\u001b[49m\u001b[38;5;28;43mid\u001b[39;49m\u001b[43m,\u001b[49m\u001b[43m \u001b[49m\u001b[38;5;28;43mdict\u001b[39;49m\u001b[43m[\u001b[49m\u001b[38;5;124;43m\"\u001b[39;49m\u001b[38;5;124;43mnodes\u001b[39;49m\u001b[38;5;124;43m\"\u001b[39;49m\u001b[43m]\u001b[49m\u001b[43m,\u001b[49m\u001b[43m \u001b[49m\u001b[38;5;28;43mdict\u001b[39;49m\u001b[43m[\u001b[49m\u001b[38;5;124;43m\"\u001b[39;49m\u001b[38;5;124;43medges\u001b[39;49m\u001b[38;5;124;43m\"\u001b[39;49m\u001b[43m]\u001b[49m\u001b[43m)\u001b[49m)\n\u001b[0;32m    103\u001b[0m \u001b[38;5;28;01mreturn\u001b[39;00m lista_de_ISPs\n",
      "File \u001b[1;32md:\\Desktop\\Simulador\\simulador-EON-pre-Desastre\\simuladorV2\\ISP\\ISP.py:22\u001b[0m, in \u001b[0;36mISP.__init__\u001b[1;34m(self, id, nodes, edges)\u001b[0m\n\u001b[0;32m     20\u001b[0m \u001b[38;5;28mself\u001b[39m\u001b[38;5;241m.\u001b[39medges \u001b[38;5;241m=\u001b[39m edges\n\u001b[0;32m     21\u001b[0m \u001b[38;5;28mself\u001b[39m\u001b[38;5;241m.\u001b[39mroteamento :\u001b[38;5;124m'\u001b[39m\u001b[38;5;124miRoteamento\u001b[39m\u001b[38;5;124m'\u001b[39m \u001b[38;5;241m=\u001b[39m Roteamento\n\u001b[1;32m---> 22\u001b[0m \u001b[38;5;28mself\u001b[39m\u001b[38;5;241m.\u001b[39mroteamento_desastre :\u001b[38;5;124m'\u001b[39m\u001b[38;5;124miRoteamento\u001b[39m\u001b[38;5;124m'\u001b[39m \u001b[38;5;241m=\u001b[39m \u001b[43mRoteamentoDesastre\u001b[49m\n\u001b[0;32m     23\u001b[0m \u001b[38;5;28mself\u001b[39m\u001b[38;5;241m.\u001b[39mdatacenter \u001b[38;5;241m=\u001b[39m \u001b[38;5;28;01mNone\u001b[39;00m\n",
      "\u001b[1;31mNameError\u001b[0m: name 'RoteamentoDesastre' is not defined"
     ]
    }
   ],
   "source": [
    "simulador :Simulador  = Simulador(env=env, topology=topology, numero_de_ISPs=5, rate =50, num_of_requests=4000000)"
   ]
  },
  {
   "cell_type": "code",
   "execution_count": null,
   "metadata": {},
   "outputs": [],
   "source": [
    "Contador.printa_parametros()"
   ]
  }
 ],
 "metadata": {
  "kernelspec": {
   "display_name": ".venvsimulador",
   "language": "python",
   "name": "python3"
  },
  "language_info": {
   "codemirror_mode": {
    "name": "ipython",
    "version": 3
   },
   "file_extension": ".py",
   "mimetype": "text/x-python",
   "name": "python",
   "nbconvert_exporter": "python",
   "pygments_lexer": "ipython3",
   "version": "3.11.3"
  }
 },
 "nbformat": 4,
 "nbformat_minor": 2
}
