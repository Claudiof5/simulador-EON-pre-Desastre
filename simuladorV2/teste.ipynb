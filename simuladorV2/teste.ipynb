{
 "cells": [
  {
   "cell_type": "code",
   "execution_count": 1,
   "metadata": {},
   "outputs": [],
   "source": [
    "from Simulador import Simulador\n",
    "from Registrador import Registrador\n",
    "from simpy import Environment\n",
    "import networkx as nx\n",
    "from cenario.GeradorCenarioSimulacao import GeradorCenarioSimulacao\n",
    "\n",
    "env = Environment()\n",
    "topology = nx.read_weighted_edgelist( \"./topology/usa\", nodetype=int)\n"
   ]
  },
  {
   "cell_type": "code",
   "execution_count": 2,
   "metadata": {},
   "outputs": [],
   "source": [
    "cenario = GeradorCenarioSimulacao.gerar_cenario(topology, env, retornar_objetos=True)"
   ]
  },
  {
   "cell_type": "code",
   "execution_count": 3,
   "metadata": {},
   "outputs": [],
   "source": [
    "simulador :Simulador  = Simulador(env=env, topology=topology, status_logger=True, cenario=cenario)"
   ]
  },
  {
   "cell_type": "code",
   "execution_count": null,
   "metadata": {},
   "outputs": [],
   "source": [
    "simulador.topology.caminhos_mais_curtos_entre_links"
   ]
  },
  {
   "cell_type": "code",
   "execution_count": 5,
   "metadata": {},
   "outputs": [
    {
     "ename": "KeyboardInterrupt",
     "evalue": "",
     "output_type": "error",
     "traceback": [
      "\u001b[1;31m---------------------------------------------------------------------------\u001b[0m",
      "\u001b[1;31mKeyboardInterrupt\u001b[0m                         Traceback (most recent call last)",
      "File \u001b[1;32md:\\Desktop\\Simulador\\simulador-EON-pre-Desastre\\simuladorV2\\Simulador.py:49\u001b[0m, in \u001b[0;36mSimulador._run\u001b[1;34m(self)\u001b[0m\n\u001b[0;32m     48\u001b[0m roteador: iRoteamento \u001b[38;5;241m=\u001b[39m \u001b[38;5;28mself\u001b[39m\u001b[38;5;241m.\u001b[39mlista_de_ISPs[id_ISP_origem]\u001b[38;5;241m.\u001b[39mroteamento\n\u001b[1;32m---> 49\u001b[0m \u001b[43mroteador\u001b[49m\u001b[38;5;241;43m.\u001b[39;49m\u001b[43mrotear_requisicao\u001b[49m\u001b[43m(\u001b[49m\u001b[43m \u001b[49m\u001b[43mrequisicao\u001b[49m\u001b[43m,\u001b[49m\u001b[43m \u001b[49m\u001b[38;5;28;43mself\u001b[39;49m\u001b[38;5;241;43m.\u001b[39;49m\u001b[43mtopology\u001b[49m\u001b[43m \u001b[49m\u001b[43m)\u001b[49m\n\u001b[0;32m     50\u001b[0m Logger\u001b[38;5;241m.\u001b[39mmensagem_acompanha_requisicoes( req_id, \u001b[38;5;28mself\u001b[39m\u001b[38;5;241m.\u001b[39menv\u001b[38;5;241m.\u001b[39mnow, \u001b[38;5;241m10000\u001b[39m )\n",
      "File \u001b[1;32md:\\Desktop\\Simulador\\simulador-EON-pre-Desastre\\simuladorV2\\Roteamento\\Roteamento.py:17\u001b[0m, in \u001b[0;36mRoteamento.rotear_requisicao\u001b[1;34m(requisicao, topology)\u001b[0m\n\u001b[0;32m     15\u001b[0m \u001b[38;5;28;01mdef\u001b[39;00m \u001b[38;5;21mrotear_requisicao\u001b[39m( requisicao: Requisicao, topology: \u001b[38;5;124m'\u001b[39m\u001b[38;5;124mTopologia\u001b[39m\u001b[38;5;124m'\u001b[39m) \u001b[38;5;241m-\u001b[39m\u001b[38;5;241m>\u001b[39m \u001b[38;5;28mbool\u001b[39m:\n\u001b[1;32m---> 17\u001b[0m     informacoes_dos_datapaths, pelo_menos_uma_janela_habil \u001b[38;5;241m=\u001b[39m \u001b[43mRoteamento\u001b[49m\u001b[38;5;241;43m.\u001b[39;49m\u001b[43mretorna_informacoes_datapaths\u001b[49m\u001b[43m(\u001b[49m\u001b[43mrequisicao\u001b[49m\u001b[43m,\u001b[49m\u001b[43m \u001b[49m\u001b[43mtopology\u001b[49m\u001b[43m)\u001b[49m\n\u001b[0;32m     18\u001b[0m     \u001b[38;5;28;01mif\u001b[39;00m pelo_menos_uma_janela_habil:\n",
      "File \u001b[1;32md:\\Desktop\\Simulador\\simulador-EON-pre-Desastre\\simuladorV2\\Roteamento\\Roteamento.py:79\u001b[0m, in \u001b[0;36mRoteamento.retorna_informacoes_datapaths\u001b[1;34m(requisicao, topology)\u001b[0m\n\u001b[0;32m     77\u001b[0m numero_slots_necessarios \u001b[38;5;241m=\u001b[39m Roteamento\u001b[38;5;241m.\u001b[39mslots_nescessarios(distancia, requisicao\u001b[38;5;241m.\u001b[39mbandwidth)\n\u001b[1;32m---> 79\u001b[0m slots_livres, slots_livres_agrupados, lista_de_inicios_e_fins \u001b[38;5;241m=\u001b[39m \u001b[43mRoteamento\u001b[49m\u001b[38;5;241;43m.\u001b[39;49m\u001b[43minformacoes_sobre_slots\u001b[49m\u001b[43m(\u001b[49m\u001b[43mcaminho\u001b[49m\u001b[43m,\u001b[49m\u001b[43m \u001b[49m\u001b[43mtopology\u001b[49m\u001b[43m)\u001b[49m\n\u001b[0;32m     81\u001b[0m numero_de_slots_livres \u001b[38;5;241m=\u001b[39m \u001b[38;5;28mlen\u001b[39m(slots_livres)\n",
      "File \u001b[1;32md:\\Desktop\\Simulador\\simulador-EON-pre-Desastre\\simuladorV2\\Roteamento\\Roteamento.py:101\u001b[0m, in \u001b[0;36mRoteamento.informacoes_sobre_slots\u001b[1;34m(caminho, topology)\u001b[0m\n\u001b[0;32m     99\u001b[0m \u001b[38;5;28;01mdef\u001b[39;00m \u001b[38;5;21minformacoes_sobre_slots\u001b[39m( caminho, topology: \u001b[38;5;124m'\u001b[39m\u001b[38;5;124mTopologia\u001b[39m\u001b[38;5;124m'\u001b[39m) \u001b[38;5;241m-\u001b[39m\u001b[38;5;241m>\u001b[39m \u001b[38;5;28mtuple\u001b[39m[\u001b[38;5;28mlist\u001b[39m[\u001b[38;5;28mint\u001b[39m], \u001b[38;5;28mlist\u001b[39m[\u001b[38;5;28mlist\u001b[39m[\u001b[38;5;28mint\u001b[39m]], \u001b[38;5;28mlist\u001b[39m[\u001b[38;5;28mtuple\u001b[39m[\u001b[38;5;28mint\u001b[39m, \u001b[38;5;28mint\u001b[39m]]]:\n\u001b[1;32m--> 101\u001b[0m     slots_livres \u001b[38;5;241m=\u001b[39m \u001b[43mRoteamento\u001b[49m\u001b[38;5;241;43m.\u001b[39;49m\u001b[43mretorna_slots_livres\u001b[49m\u001b[43m(\u001b[49m\u001b[43mcaminho\u001b[49m\u001b[43m,\u001b[49m\u001b[43m \u001b[49m\u001b[43mtopology\u001b[49m\u001b[43m)\u001b[49m\n\u001b[0;32m    103\u001b[0m     slots_livres_agrupados \u001b[38;5;241m=\u001b[39m Roteamento\u001b[38;5;241m.\u001b[39magrupa_slots_consecutivos(slots_livres)\n",
      "File \u001b[1;32md:\\Desktop\\Simulador\\simulador-EON-pre-Desastre\\simuladorV2\\Roteamento\\Roteamento.py:113\u001b[0m, in \u001b[0;36mRoteamento.retorna_slots_livres\u001b[1;34m(caminho, topology)\u001b[0m\n\u001b[0;32m    112\u001b[0m \u001b[38;5;28;01mfor\u001b[39;00m i \u001b[38;5;129;01min\u001b[39;00m \u001b[38;5;28mrange\u001b[39m( topology\u001b[38;5;241m.\u001b[39mnumero_de_slots):\n\u001b[1;32m--> 113\u001b[0m     \u001b[38;5;28;01mif\u001b[39;00m \u001b[43mRoteamento\u001b[49m\u001b[38;5;241;43m.\u001b[39;49m\u001b[43mcheca_concurrency_slot\u001b[49m\u001b[43m(\u001b[49m\u001b[43mcaminho\u001b[49m\u001b[43m,\u001b[49m\u001b[43m \u001b[49m\u001b[43mtopology\u001b[49m\u001b[43m,\u001b[49m\u001b[43m \u001b[49m\u001b[43mi\u001b[49m\u001b[43m)\u001b[49m:\n\u001b[0;32m    114\u001b[0m         slots_livres\u001b[38;5;241m.\u001b[39mappend(i)\n",
      "File \u001b[1;32md:\\Desktop\\Simulador\\simulador-EON-pre-Desastre\\simuladorV2\\Roteamento\\Roteamento.py:121\u001b[0m, in \u001b[0;36mRoteamento.checa_concurrency_slot\u001b[1;34m(caminho, topology, indice)\u001b[0m\n\u001b[0;32m    119\u001b[0m \u001b[38;5;28;01mfor\u001b[39;00m i \u001b[38;5;129;01min\u001b[39;00m \u001b[38;5;28mrange\u001b[39m(\u001b[38;5;241m0\u001b[39m, (\u001b[38;5;28mlen\u001b[39m(caminho)\u001b[38;5;241m-\u001b[39m\u001b[38;5;241m1\u001b[39m)):\n\u001b[1;32m--> 121\u001b[0m     \u001b[38;5;28;01mif\u001b[39;00m \u001b[43mtopology\u001b[49m\u001b[38;5;241;43m.\u001b[39;49m\u001b[43mtopology\u001b[49m\u001b[43m[\u001b[49m\u001b[43mcaminho\u001b[49m\u001b[43m[\u001b[49m\u001b[43mi\u001b[49m\u001b[43m]\u001b[49m\u001b[43m]\u001b[49m[caminho[i\u001b[38;5;241m+\u001b[39m\u001b[38;5;241m1\u001b[39m]][\u001b[38;5;124m'\u001b[39m\u001b[38;5;124mslots\u001b[39m\u001b[38;5;124m'\u001b[39m][indice] \u001b[38;5;241m!=\u001b[39m \u001b[38;5;241m0\u001b[39m:\n\u001b[0;32m    122\u001b[0m         \u001b[38;5;28;01mreturn\u001b[39;00m \u001b[38;5;28;01mFalse\u001b[39;00m\n",
      "File \u001b[1;32md:\\Desktop\\Simulador\\simulador-EON-pre-Desastre\\.simulador_venv\\Lib\\site-packages\\networkx\\classes\\graph.py:515\u001b[0m, in \u001b[0;36mGraph.__getitem__\u001b[1;34m(self, n)\u001b[0m\n\u001b[0;32m    492\u001b[0m \u001b[38;5;250m\u001b[39m\u001b[38;5;124;03m\"\"\"Returns a dict of neighbors of node n.  Use: 'G[n]'.\u001b[39;00m\n\u001b[0;32m    493\u001b[0m \n\u001b[0;32m    494\u001b[0m \u001b[38;5;124;03mParameters\u001b[39;00m\n\u001b[1;32m   (...)\u001b[0m\n\u001b[0;32m    513\u001b[0m \u001b[38;5;124;03mAtlasView({1: {}})\u001b[39;00m\n\u001b[0;32m    514\u001b[0m \u001b[38;5;124;03m\"\"\"\u001b[39;00m\n\u001b[1;32m--> 515\u001b[0m \u001b[38;5;28;01mreturn\u001b[39;00m \u001b[38;5;28;43mself\u001b[39;49m\u001b[38;5;241;43m.\u001b[39;49m\u001b[43madj\u001b[49m\u001b[43m[\u001b[49m\u001b[43mn\u001b[49m\u001b[43m]\u001b[49m\n",
      "File \u001b[1;32md:\\Desktop\\Simulador\\simulador-EON-pre-Desastre\\.simulador_venv\\Lib\\site-packages\\networkx\\classes\\coreviews.py:81\u001b[0m, in \u001b[0;36mAdjacencyView.__getitem__\u001b[1;34m(self, name)\u001b[0m\n\u001b[0;32m     80\u001b[0m \u001b[38;5;28;01mdef\u001b[39;00m \u001b[38;5;21m__getitem__\u001b[39m(\u001b[38;5;28mself\u001b[39m, name):\n\u001b[1;32m---> 81\u001b[0m     \u001b[38;5;28;01mreturn\u001b[39;00m \u001b[43mAtlasView\u001b[49m\u001b[43m(\u001b[49m\u001b[38;5;28;43mself\u001b[39;49m\u001b[38;5;241;43m.\u001b[39;49m\u001b[43m_atlas\u001b[49m\u001b[43m[\u001b[49m\u001b[43mname\u001b[49m\u001b[43m]\u001b[49m\u001b[43m)\u001b[49m\n",
      "File \u001b[1;32md:\\Desktop\\Simulador\\simulador-EON-pre-Desastre\\.simulador_venv\\Lib\\site-packages\\networkx\\classes\\coreviews.py:43\u001b[0m, in \u001b[0;36mAtlasView.__init__\u001b[1;34m(self, d)\u001b[0m\n\u001b[0;32m     41\u001b[0m     \u001b[38;5;28mself\u001b[39m\u001b[38;5;241m.\u001b[39m_atlas \u001b[38;5;241m=\u001b[39m state[\u001b[38;5;124m\"\u001b[39m\u001b[38;5;124m_atlas\u001b[39m\u001b[38;5;124m\"\u001b[39m]\n\u001b[1;32m---> 43\u001b[0m \u001b[38;5;28;01mdef\u001b[39;00m \u001b[38;5;21m__init__\u001b[39m(\u001b[38;5;28mself\u001b[39m, d):\n\u001b[0;32m     44\u001b[0m     \u001b[38;5;28mself\u001b[39m\u001b[38;5;241m.\u001b[39m_atlas \u001b[38;5;241m=\u001b[39m d\n",
      "\u001b[1;31mKeyboardInterrupt\u001b[0m: ",
      "\nThe above exception was the direct cause of the following exception:\n",
      "\u001b[1;31mKeyboardInterrupt\u001b[0m                         Traceback (most recent call last)",
      "Cell \u001b[1;32mIn[5], line 1\u001b[0m\n\u001b[1;32m----> 1\u001b[0m \u001b[43msimulador\u001b[49m\u001b[38;5;241;43m.\u001b[39;49m\u001b[43mrun\u001b[49m\u001b[43m(\u001b[49m\u001b[43m)\u001b[49m\n",
      "File \u001b[1;32md:\\Desktop\\Simulador\\simulador-EON-pre-Desastre\\simuladorV2\\Simulador.py:37\u001b[0m, in \u001b[0;36mSimulador.run\u001b[1;34m(self)\u001b[0m\n\u001b[0;32m     35\u001b[0m \u001b[38;5;28;01mdef\u001b[39;00m \u001b[38;5;21mrun\u001b[39m( \u001b[38;5;28mself\u001b[39m ):\n\u001b[0;32m     36\u001b[0m     \u001b[38;5;28mself\u001b[39m\u001b[38;5;241m.\u001b[39menv\u001b[38;5;241m.\u001b[39mprocess( \u001b[38;5;28mself\u001b[39m\u001b[38;5;241m.\u001b[39m_run() )\n\u001b[1;32m---> 37\u001b[0m     \u001b[38;5;28;43mself\u001b[39;49m\u001b[38;5;241;43m.\u001b[39;49m\u001b[43menv\u001b[49m\u001b[38;5;241;43m.\u001b[39;49m\u001b[43mrun\u001b[49m\u001b[43m(\u001b[49m\u001b[43m)\u001b[49m\n",
      "File \u001b[1;32md:\\Desktop\\Simulador\\simulador-EON-pre-Desastre\\.simulador_venv\\Lib\\site-packages\\simpy\\core.py:246\u001b[0m, in \u001b[0;36mEnvironment.run\u001b[1;34m(self, until)\u001b[0m\n\u001b[0;32m    244\u001b[0m \u001b[38;5;28;01mtry\u001b[39;00m:\n\u001b[0;32m    245\u001b[0m     \u001b[38;5;28;01mwhile\u001b[39;00m \u001b[38;5;28;01mTrue\u001b[39;00m:\n\u001b[1;32m--> 246\u001b[0m         \u001b[38;5;28;43mself\u001b[39;49m\u001b[38;5;241;43m.\u001b[39;49m\u001b[43mstep\u001b[49m\u001b[43m(\u001b[49m\u001b[43m)\u001b[49m\n\u001b[0;32m    247\u001b[0m \u001b[38;5;28;01mexcept\u001b[39;00m StopSimulation \u001b[38;5;28;01mas\u001b[39;00m exc:\n\u001b[0;32m    248\u001b[0m     \u001b[38;5;28;01mreturn\u001b[39;00m exc\u001b[38;5;241m.\u001b[39margs[\u001b[38;5;241m0\u001b[39m]  \u001b[38;5;66;03m# == until.value\u001b[39;00m\n",
      "File \u001b[1;32md:\\Desktop\\Simulador\\simulador-EON-pre-Desastre\\.simulador_venv\\Lib\\site-packages\\simpy\\core.py:204\u001b[0m, in \u001b[0;36mEnvironment.step\u001b[1;34m(self)\u001b[0m\n\u001b[0;32m    202\u001b[0m exc \u001b[38;5;241m=\u001b[39m \u001b[38;5;28mtype\u001b[39m(event\u001b[38;5;241m.\u001b[39m_value)(\u001b[38;5;241m*\u001b[39mevent\u001b[38;5;241m.\u001b[39m_value\u001b[38;5;241m.\u001b[39margs)\n\u001b[0;32m    203\u001b[0m exc\u001b[38;5;241m.\u001b[39m__cause__ \u001b[38;5;241m=\u001b[39m event\u001b[38;5;241m.\u001b[39m_value\n\u001b[1;32m--> 204\u001b[0m \u001b[38;5;28;01mraise\u001b[39;00m exc\n",
      "\u001b[1;31mKeyboardInterrupt\u001b[0m: "
     ]
    }
   ],
   "source": [
    "simulador.run()"
   ]
  },
  {
   "cell_type": "code",
   "execution_count": null,
   "metadata": {},
   "outputs": [],
   "source": [
    "Registrador.printa_parametros()"
   ]
  },
  {
   "cell_type": "code",
   "execution_count": 12,
   "metadata": {},
   "outputs": [],
   "source": [
    "dataframe = simulador.salvar_dataframe()"
   ]
  },
  {
   "cell_type": "code",
   "execution_count": null,
   "metadata": {},
   "outputs": [],
   "source": [
    "dataframe[dataframe[\"bloqueada\"] == False]"
   ]
  }
 ],
 "metadata": {
  "kernelspec": {
   "display_name": ".venvsimulador",
   "language": "python",
   "name": "python3"
  },
  "language_info": {
   "codemirror_mode": {
    "name": "ipython",
    "version": 3
   },
   "file_extension": ".py",
   "mimetype": "text/x-python",
   "name": "python",
   "nbconvert_exporter": "python",
   "pygments_lexer": "ipython3",
   "version": "3.11.3"
  }
 },
 "nbformat": 4,
 "nbformat_minor": 2
}
