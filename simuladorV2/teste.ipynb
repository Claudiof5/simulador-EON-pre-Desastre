{
 "cells": [
  {
   "cell_type": "code",
   "execution_count": null,
   "metadata": {},
   "outputs": [],
   "source": [
    "from simuladorV2.Simulador import Simulador\n",
    "from simuladorV2.Contador import Contador\n",
    "from simpy import Environment\n",
    "import networkx as nx\n",
    "\n",
    "\n",
    "env = Environment()\n",
    "topology = nx.read_weighted_edgelist( \"./simuladorV2/topology/usa\", nodetype=int)\n"
   ]
  },
  {
   "cell_type": "code",
   "execution_count": null,
   "metadata": {},
   "outputs": [],
   "source": [
    "simulador :Simulador  = Simulador( env, topology, 5, 50, 4000000)"
   ]
  },
  {
   "cell_type": "code",
   "execution_count": null,
   "metadata": {},
   "outputs": [],
   "source": [
    "Contador.printa_parametros()"
   ]
  }
 ],
 "metadata": {
  "kernelspec": {
   "display_name": ".venvsimulador",
   "language": "python",
   "name": "python3"
  },
  "language_info": {
   "name": "python",
   "version": "3.11.9"
  }
 },
 "nbformat": 4,
 "nbformat_minor": 2
}
